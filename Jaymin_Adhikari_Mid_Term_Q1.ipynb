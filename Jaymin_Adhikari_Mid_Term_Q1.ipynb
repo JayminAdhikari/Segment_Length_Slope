{
 "cells": [
  {
   "cell_type": "markdown",
   "id": "3c828247",
   "metadata": {},
   "source": [
    "# __int()__: Constructor that takes as input a pair of Point objects that represent the ends points of the line segment\n",
    "\n",
    "Length():: returns the length if the segment \n",
    "\n",
    "Slope() returns the slope of the segment of none if the slope is unbounded "
   ]
  },
  {
   "cell_type": "code",
   "execution_count": 1,
   "id": "0dee7c8a",
   "metadata": {},
   "outputs": [],
   "source": [
    "class Point:\n",
    "    def __init__(self, x=0, y=0):\n",
    "        self.x = x\n",
    "        self.y = y\n",
    "\n",
    "class Segment:\n",
    "    def __init__(self, p1, p2):\n",
    "        self.p1 = p1\n",
    "        self.p2 = p2\n",
    "    \n",
    "    def length(self):\n",
    "        # Calculate the distance between p1 and p2 using the distance formula\n",
    "        return ((self.p2.x - self.p1.x)**2 + (self.p2.y - self.p1.y)**2)**0.5\n",
    "    \n",
    "    def slope(self):\n",
    "        # Calculate the slope if the segment is not vertical\n",
    "        if self.p2.x - self.p1.x != 0:\n",
    "            return (self.p2.x - self.p1.x) / (self.p2.y - self.p1.y)\n",
    "        else:\n",
    "            return None  # Return None if the slope is undefined (vertical line)\n"
   ]
  },
  {
   "cell_type": "code",
   "execution_count": 2,
   "id": "8c597041",
   "metadata": {},
   "outputs": [],
   "source": [
    "# Example usage as per the problem statement\n",
    "p1 = Point(3, 4)\n",
    "p2 = Point(0, 0)"
   ]
  },
  {
   "cell_type": "code",
   "execution_count": 3,
   "id": "74ded646",
   "metadata": {},
   "outputs": [],
   "source": [
    "# Default Point() will be (0, 0)\n",
    "s = Segment(p1, p2)"
   ]
  },
  {
   "cell_type": "code",
   "execution_count": 4,
   "id": "45752890",
   "metadata": {},
   "outputs": [
    {
     "data": {
      "text/plain": [
       "5.0"
      ]
     },
     "execution_count": 4,
     "metadata": {},
     "output_type": "execute_result"
    }
   ],
   "source": [
    "s.length()"
   ]
  },
  {
   "cell_type": "code",
   "execution_count": 5,
   "id": "751134e7",
   "metadata": {},
   "outputs": [
    {
     "data": {
      "text/plain": [
       "0.75"
      ]
     },
     "execution_count": 5,
     "metadata": {},
     "output_type": "execute_result"
    }
   ],
   "source": [
    "s.slope()"
   ]
  },
  {
   "cell_type": "code",
   "execution_count": null,
   "id": "c48cedb7",
   "metadata": {},
   "outputs": [],
   "source": []
  },
  {
   "cell_type": "code",
   "execution_count": null,
   "id": "fe1f44dd",
   "metadata": {},
   "outputs": [],
   "source": []
  }
 ],
 "metadata": {
  "kernelspec": {
   "display_name": "Python 3",
   "language": "python",
   "name": "python3"
  },
  "language_info": {
   "codemirror_mode": {
    "name": "ipython",
    "version": 3
   },
   "file_extension": ".py",
   "mimetype": "text/x-python",
   "name": "python",
   "nbconvert_exporter": "python",
   "pygments_lexer": "ipython3",
   "version": "3.8.8"
  }
 },
 "nbformat": 4,
 "nbformat_minor": 5
}
